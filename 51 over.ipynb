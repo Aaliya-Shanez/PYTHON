{
 "cells": [
  {
   "cell_type": "code",
   "execution_count": 2,
   "metadata": {},
   "outputs": [
    {
     "name": "stdout",
     "output_type": "stream",
     "text": [
      "enter an integer('enter stop to stop'):45\n",
      "enter an integer('enter stop to stop'):35\n",
      "enter an integer('enter stop to stop'):78\n",
      "enter an integer('enter stop to stop'):23\n",
      "enter an integer('enter stop to stop'):100\n",
      "enter an integer('enter stop to stop'):150\n",
      "enter an integer('enter stop to stop'):350\n",
      "enter an integer('enter stop to stop'):stop\n",
      "[45, 35, 78, 23, 100, 'over', 'over']\n"
     ]
    }
   ],
   "source": [
    "values=[]\n",
    "while True:\n",
    "    value = input(\"enter an integer('enter stop to stop'):\")\n",
    "    if value == 'stop':\n",
    "        break\n",
    "    elif int(value)>100:\n",
    "        values.append('over')\n",
    "    else:\n",
    "        values.append(int(value))\n",
    "print(values)\n"
   ]
  },
  {
   "cell_type": "code",
   "execution_count": null,
   "metadata": {
    "collapsed": true
   },
   "outputs": [],
   "source": []
  }
 ],
 "metadata": {
  "kernelspec": {
   "display_name": "Python 3",
   "language": "python",
   "name": "python3"
  },
  "language_info": {
   "codemirror_mode": {
    "name": "ipython",
    "version": 3
   },
   "file_extension": ".py",
   "mimetype": "text/x-python",
   "name": "python",
   "nbconvert_exporter": "python",
   "pygments_lexer": "ipython3",
   "version": "3.6.3"
  }
 },
 "nbformat": 4,
 "nbformat_minor": 2
}
