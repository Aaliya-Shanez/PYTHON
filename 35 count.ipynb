{
 "cells": [
  {
   "cell_type": "code",
   "execution_count": 4,
   "metadata": {},
   "outputs": [
    {
     "name": "stdout",
     "output_type": "stream",
     "text": [
      "enter the string:aali789\n",
      "letters: 4\n",
      "digits: 3\n"
     ]
    }
   ],
   "source": [
    "# count alphas and digit from a string\n",
    "n=input(\"enter the string:\")\n",
    "a=b=0\n",
    "for d in n:\n",
    "    if d.isdigit():\n",
    "        a=a+1\n",
    "    elif d.isalpha():\n",
    "        b=b+1\n",
    "    else:\n",
    "        pass\n",
    "print(\"letters:\",b)\n",
    "print(\"digits:\",a)"
   ]
  },
  {
   "cell_type": "code",
   "execution_count": null,
   "metadata": {
    "collapsed": true
   },
   "outputs": [],
   "source": []
  },
  {
   "cell_type": "code",
   "execution_count": null,
   "metadata": {
    "collapsed": true
   },
   "outputs": [],
   "source": []
  }
 ],
 "metadata": {
  "kernelspec": {
   "display_name": "Python 3",
   "language": "python",
   "name": "python3"
  },
  "language_info": {
   "codemirror_mode": {
    "name": "ipython",
    "version": 3
   },
   "file_extension": ".py",
   "mimetype": "text/x-python",
   "name": "python",
   "nbconvert_exporter": "python",
   "pygments_lexer": "ipython3",
   "version": "3.6.3"
  }
 },
 "nbformat": 4,
 "nbformat_minor": 2
}
