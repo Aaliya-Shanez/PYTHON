{
 "cells": [
  {
   "cell_type": "code",
   "execution_count": 6,
   "metadata": {},
   "outputs": [
    {
     "name": "stdout",
     "output_type": "stream",
     "text": [
      "enter the 1st number:7\n",
      "enter the 2nd number:8\n",
      "enter the 3rd number:5\n",
      "maximum 8\n"
     ]
    }
   ],
   "source": [
    "import math\n",
    "a=int(input(\"enter the 1st number:\"));\n",
    "b=int(input(\"enter the 2nd number:\"));\n",
    "c=int(input(\"enter the 3rd number:\"));\n",
    "d=max(a,b,c)\n",
    "print('maximum', d)"
   ]
  }
 ],
 "metadata": {
  "kernelspec": {
   "display_name": "Python 3",
   "language": "python",
   "name": "python3"
  },
  "language_info": {
   "codemirror_mode": {
    "name": "ipython",
    "version": 3
   },
   "file_extension": ".py",
   "mimetype": "text/x-python",
   "name": "python",
   "nbconvert_exporter": "python",
   "pygments_lexer": "ipython3",
   "version": "3.6.3"
  }
 },
 "nbformat": 4,
 "nbformat_minor": 2
}
