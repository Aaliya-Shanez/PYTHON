{
 "cells": [
  {
   "cell_type": "code",
   "execution_count": 17,
   "metadata": {},
   "outputs": [
    {
     "name": "stdout",
     "output_type": "stream",
     "text": [
      "List Items =  [10, 27, 37, 44, 51, 65, 71, 84, 91]\n",
      "List Items after removing even Items =  [27, 37, 51, 65, 71, 91]\n"
     ]
    }
   ],
   "source": [
    "#removing list of integers\n",
    "evenList = [10, 27, 37, 44, 51, 65, 71, 84, 91]\n",
    "print(\"List Items = \", evenList)\n",
    "\n",
    "for ev in evenList:\n",
    "    if (ev % 2 == 0):\n",
    "        evenList.remove(ev)\n",
    "    \n",
    "print(\"List Items after removing even Items = \", evenList)\n",
    "\n",
    "        \n"
   ]
  },
  {
   "cell_type": "code",
   "execution_count": null,
   "metadata": {
    "collapsed": true
   },
   "outputs": [],
   "source": []
  }
 ],
 "metadata": {
  "kernelspec": {
   "display_name": "Python 3",
   "language": "python",
   "name": "python3"
  },
  "language_info": {
   "codemirror_mode": {
    "name": "ipython",
    "version": 3
   },
   "file_extension": ".py",
   "mimetype": "text/x-python",
   "name": "python",
   "nbconvert_exporter": "python",
   "pygments_lexer": "ipython3",
   "version": "3.6.3"
  }
 },
 "nbformat": 4,
 "nbformat_minor": 2
}
