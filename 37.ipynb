{
 "cells": [
  {
   "cell_type": "code",
   "execution_count": 5,
   "metadata": {},
   "outputs": [
    {
     "name": "stdout",
     "output_type": "stream",
     "text": [
      "how many numbers:5\n",
      "enter the numbers:10\n",
      "enter the numbers:20\n",
      "enter the numbers:30\n",
      "enter the numbers:40\n",
      "enter the numbers:50\n",
      "sum of elements in list: 150\n"
     ]
    }
   ],
   "source": [
    "#sum of all items in a list\n",
    "list = []\n",
    "n=int(input('how many numbers:'))\n",
    "for i in range(n):\n",
    "    numbers = int(input('enter the numbers:'))\n",
    "    list.append(numbers)\n",
    "print(\"sum of elements in list:\",sum(list))\n"
   ]
  },
  {
   "cell_type": "code",
   "execution_count": null,
   "metadata": {
    "collapsed": true
   },
   "outputs": [],
   "source": []
  },
  {
   "cell_type": "code",
   "execution_count": null,
   "metadata": {
    "collapsed": true
   },
   "outputs": [],
   "source": []
  }
 ],
 "metadata": {
  "kernelspec": {
   "display_name": "Python 3",
   "language": "python",
   "name": "python3"
  },
  "language_info": {
   "codemirror_mode": {
    "name": "ipython",
    "version": 3
   },
   "file_extension": ".py",
   "mimetype": "text/x-python",
   "name": "python",
   "nbconvert_exporter": "python",
   "pygments_lexer": "ipython3",
   "version": "3.6.3"
  }
 },
 "nbformat": 4,
 "nbformat_minor": 2
}
