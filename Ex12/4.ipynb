{
 "cells": [
  {
   "cell_type": "code",
   "execution_count": 1,
   "metadata": {},
   "outputs": [
    {
     "name": "stdout",
     "output_type": "stream",
     "text": [
      "Enter length of rectangle1: 10\n",
      "Enter width of rectangle1: 20\n",
      "Enter length of rectangle2: 30\n",
      "Enter width of rectangle2: 20\n",
      "rectangle 2 is greater\n"
     ]
    }
   ],
   "source": [
    "class rectangle:\n",
    "    def __init__(self,l,w):\n",
    "        self.length=l\n",
    "        self.width=w\n",
    "        self.a=l*w\n",
    "    def __gt__(self,other):\n",
    "        if self.a < other.a:\n",
    "            print(\"rectangle 1 is greater\")\n",
    "        else:\n",
    "            print(\"rectangle 2 is greater\")\n",
    "l1=int(input(\"Enter length of rectangle1: \"))\n",
    "w1=int(input(\"Enter width of rectangle1: \"))\n",
    "l2=int(input(\"Enter length of rectangle2: \"))\n",
    "w2=int(input(\"Enter width of rectangle2: \"))\n",
    " \n",
    "r1=rectangle(l1,w1)\n",
    "r2=rectangle(l2,w2)\n",
    "r1<r2\n"
   ]
  },
  {
   "cell_type": "code",
   "execution_count": null,
   "metadata": {
    "collapsed": true
   },
   "outputs": [],
   "source": [
    "60\n"
   ]
  }
 ],
 "metadata": {
  "kernelspec": {
   "display_name": "Python 3",
   "language": "python",
   "name": "python3"
  },
  "language_info": {
   "codemirror_mode": {
    "name": "ipython",
    "version": 3
   },
   "file_extension": ".py",
   "mimetype": "text/x-python",
   "name": "python",
   "nbconvert_exporter": "python",
   "pygments_lexer": "ipython3",
   "version": "3.6.3"
  }
 },
 "nbformat": 4,
 "nbformat_minor": 2
}
