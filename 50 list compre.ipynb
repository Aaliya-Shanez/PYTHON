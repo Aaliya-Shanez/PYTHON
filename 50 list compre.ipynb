{
 "cells": [
  {
   "cell_type": "code",
   "execution_count": 5,
   "metadata": {},
   "outputs": [
    {
     "name": "stdout",
     "output_type": "stream",
     "text": [
      "enter numbers with comma-separated: 2,3,4,5,6\n",
      "positive integers of the list are:  [2, 3, 4, 5, 6]\n",
      "square of numbers in list [4, 9, 16, 25, 36]\n",
      "enter a word: aaliya\n",
      "vowels in aaliya are ['a', 'a', 'i', 'a']\n",
      "ordinal values of ['a', 'a', 'l', 'i', 'y', 'a'] are:  [97, 97, 108, 105, 121, 97]\n"
     ]
    }
   ],
   "source": [
    "# List of positive numbers from\n",
    "num=input('enter numbers with comma-separated: ').split(',')\n",
    "new=map(int,num)\n",
    "newl=[x for x in new if x>0]\n",
    "print('positive integers of the list are: ',newl)\n",
    "\n",
    "#square of n numbers\n",
    "new2=map(int,num)\n",
    "sqlist=[x**2 for x in new2]\n",
    "print('square of numbers in list',sqlist)\n",
    "\n",
    "#list of vowels\n",
    "vw=input('enter a word: ')\n",
    "vw1=[x for x in vw]\n",
    "vowel=['a','e','i','o','u','A','E','I','O','U']\n",
    "vw2=[x for x in vwl if x in vowel]\n",
    "print('vowels in' ,vw, 'are', vw2)\n",
    "\n",
    "#ordinal values\n",
    "ordinal=[ord(x) for x in vw1]\n",
    "print('ordinal values of',vw1, 'are: ',ordinal)"
   ]
  },
  {
   "cell_type": "code",
   "execution_count": null,
   "metadata": {},
   "outputs": [],
   "source": []
  },
  {
   "cell_type": "code",
   "execution_count": null,
   "metadata": {
    "collapsed": true
   },
   "outputs": [],
   "source": []
  }
 ],
 "metadata": {
  "kernelspec": {
   "display_name": "Python 3",
   "language": "python",
   "name": "python3"
  },
  "language_info": {
   "codemirror_mode": {
    "name": "ipython",
    "version": 3
   },
   "file_extension": ".py",
   "mimetype": "text/x-python",
   "name": "python",
   "nbconvert_exporter": "python",
   "pygments_lexer": "ipython3",
   "version": "3.6.3"
  }
 },
 "nbformat": 4,
 "nbformat_minor": 2
}
