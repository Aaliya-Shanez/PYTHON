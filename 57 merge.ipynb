{
 "cells": [
  {
   "cell_type": "code",
   "execution_count": 7,
   "metadata": {},
   "outputs": [
    {
     "name": "stdout",
     "output_type": "stream",
     "text": [
      "First: {1: 'apple', 2: 'banana', 3: 'orange'}\n",
      "Second: {4: 'kiwi', 5: 'mango'}\n",
      "\n",
      "After Concatenating:\n",
      "{1: 'apple', 2: 'banana', 3: 'orange', 4: 'kiwi', 5: 'mango'}\n"
     ]
    }
   ],
   "source": [
    "#merge 2 dictionaries\n",
    "first_Dict={1:'apple',2:'banana',3:'orange'}\n",
    "second_Dict={4:'kiwi',5:'mango'}\n",
    "print(\"First:\",first_Dict)\n",
    "print(\"Second:\",second_Dict)\n",
    "first_Dict.update(second_Dict)\n",
    "print(\"\\nAfter Concatenating:\")\n",
    "print(first_Dict)"
   ]
  },
  {
   "cell_type": "code",
   "execution_count": null,
   "metadata": {
    "collapsed": true
   },
   "outputs": [],
   "source": []
  }
 ],
 "metadata": {
  "kernelspec": {
   "display_name": "Python 3",
   "language": "python",
   "name": "python3"
  },
  "language_info": {
   "codemirror_mode": {
    "name": "ipython",
    "version": 3
   },
   "file_extension": ".py",
   "mimetype": "text/x-python",
   "name": "python",
   "nbconvert_exporter": "python",
   "pygments_lexer": "ipython3",
   "version": "3.6.3"
  }
 },
 "nbformat": 4,
 "nbformat_minor": 2
}
