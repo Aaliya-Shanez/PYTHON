{
 "cells": [
  {
   "cell_type": "code",
   "execution_count": 1,
   "metadata": {},
   "outputs": [
    {
     "name": "stdout",
     "output_type": "stream",
     "text": [
      "Ascending order is: [('aaliya', 15), ('fahmidha', 14), ('nillena', 12), ('sreya', 13)]\n",
      "Descending order is: [('sreya', 13), ('nillena', 12), ('fahmidha', 14), ('aaliya', 15)]\n",
      "dictionary {'sreya': 13, 'nillena': 12, 'fahmidha': 14, 'aaliya': 15}\n"
     ]
    }
   ],
   "source": [
    "#dictionary sort in ascending and descending order\n",
    "a={'nillena':12, 'sreya':13,'aaliya':15,'fahmidha':14}\n",
    "l=list(a.items())\n",
    "l.sort()\n",
    "print('Ascending order is:',l)\n",
    "l=list(a.items())\n",
    "l.sort(reverse=True)\n",
    "print('Descending order is:',l)\n",
    "dict=dict(l)\n",
    "print(\"dictionary\",dict)"
   ]
  },
  {
   "cell_type": "code",
   "execution_count": null,
   "metadata": {
    "collapsed": true
   },
   "outputs": [],
   "source": []
  }
 ],
 "metadata": {
  "kernelspec": {
   "display_name": "Python 3",
   "language": "python",
   "name": "python3"
  },
  "language_info": {
   "codemirror_mode": {
    "name": "ipython",
    "version": 3
   },
   "file_extension": ".py",
   "mimetype": "text/x-python",
   "name": "python",
   "nbconvert_exporter": "python",
   "pygments_lexer": "ipython3",
   "version": "3.6.3"
  }
 },
 "nbformat": 4,
 "nbformat_minor": 2
}
