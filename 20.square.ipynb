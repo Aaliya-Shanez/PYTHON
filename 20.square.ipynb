{
 "cells": [
  {
   "cell_type": "code",
   "execution_count": 3,
   "metadata": {},
   "outputs": [
    {
     "name": "stdout",
     "output_type": "stream",
     "text": [
      "enter the length9\n",
      "enter the breadth9\n",
      "it is a square\n"
     ]
    }
   ],
   "source": [
    "l=int(input(\"enter the length\"))\n",
    "b=int(input(\"enter the breadth\"))\n",
    "if(l==b):\n",
    "    print(\"it is a square\")\n",
    "else:\n",
    "    print(\"it is not a square\")"
   ]
  },
  {
   "cell_type": "code",
   "execution_count": null,
   "metadata": {
    "collapsed": true
   },
   "outputs": [],
   "source": []
  }
 ],
 "metadata": {
  "kernelspec": {
   "display_name": "Python 3",
   "language": "python",
   "name": "python3"
  },
  "language_info": {
   "codemirror_mode": {
    "name": "ipython",
    "version": 3
   },
   "file_extension": ".py",
   "mimetype": "text/x-python",
   "name": "python",
   "nbconvert_exporter": "python",
   "pygments_lexer": "ipython3",
   "version": "3.6.3"
  }
 },
 "nbformat": 4,
 "nbformat_minor": 2
}
