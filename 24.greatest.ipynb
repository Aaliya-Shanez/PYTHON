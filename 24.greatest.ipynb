{
 "cells": [
  {
   "cell_type": "code",
   "execution_count": 1,
   "metadata": {},
   "outputs": [
    {
     "name": "stdout",
     "output_type": "stream",
     "text": [
      "enter the first number:2\n",
      "enter the second number:3\n",
      "enter the third number:4\n",
      "4 is the greatest\n"
     ]
    }
   ],
   "source": [
    "a=int(input(\"enter the first number:\"))\n",
    "b=int(input(\"enter the second number:\"))\n",
    "c=int(input(\"enter the third number:\"))\n",
    "if(a>b)and(a>c):\n",
    "    print(\"%d is the greatest\"%a)\n",
    "elif(c>a)and(c>b):\n",
    "    print(\"%d is the greatest\"%c)\n",
    "else:\n",
    "    print(\"%d is the greatest\"%b)\n",
    "    \n",
    "        "
   ]
  },
  {
   "cell_type": "code",
   "execution_count": null,
   "metadata": {
    "collapsed": true
   },
   "outputs": [],
   "source": []
  },
  {
   "cell_type": "code",
   "execution_count": null,
   "metadata": {
    "collapsed": true
   },
   "outputs": [],
   "source": []
  }
 ],
 "metadata": {
  "kernelspec": {
   "display_name": "Python 3",
   "language": "python",
   "name": "python3"
  },
  "language_info": {
   "codemirror_mode": {
    "name": "ipython",
    "version": 3
   },
   "file_extension": ".py",
   "mimetype": "text/x-python",
   "name": "python",
   "nbconvert_exporter": "python",
   "pygments_lexer": "ipython3",
   "version": "3.6.3"
  }
 },
 "nbformat": 4,
 "nbformat_minor": 2
}
