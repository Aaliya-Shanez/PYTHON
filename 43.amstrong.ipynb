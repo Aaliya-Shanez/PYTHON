{
 "cells": [
  {
   "cell_type": "code",
   "execution_count": 4,
   "metadata": {},
   "outputs": [
    {
     "name": "stdout",
     "output_type": "stream",
     "text": [
      "enter the number:153\n",
      "Amstrong Number\n"
     ]
    }
   ],
   "source": [
    "#amstrong or not\n",
    "a=input(\"enter the number:\")\n",
    "result=0\n",
    "for i in range(len(a)):\n",
    "    b=int(a[i])\n",
    "    result=result+(b** int(len(a)))\n",
    "if result==int(a):\n",
    "    print(\"Amstrong Number\")\n",
    "elif result!=int(a):\n",
    "    print(\"Not an amstrong number\")"
   ]
  },
  {
   "cell_type": "code",
   "execution_count": null,
   "metadata": {
    "collapsed": true
   },
   "outputs": [],
   "source": []
  }
 ],
 "metadata": {
  "kernelspec": {
   "display_name": "Python 3",
   "language": "python",
   "name": "python3"
  },
  "language_info": {
   "codemirror_mode": {
    "name": "ipython",
    "version": 3
   },
   "file_extension": ".py",
   "mimetype": "text/x-python",
   "name": "python",
   "nbconvert_exporter": "python",
   "pygments_lexer": "ipython3",
   "version": "3.6.3"
  }
 },
 "nbformat": 4,
 "nbformat_minor": 2
}
